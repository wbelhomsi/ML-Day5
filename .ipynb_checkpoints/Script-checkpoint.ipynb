{
 "cells": [
  {
   "cell_type": "code",
   "execution_count": 6,
   "metadata": {
    "collapsed": true
   },
   "outputs": [],
   "source": [
    "%config IPCompleter.greedy=True"
   ]
  },
  {
   "cell_type": "code",
   "execution_count": 9,
   "metadata": {
    "collapsed": true
   },
   "outputs": [],
   "source": [
    "import sklearn\n",
    "from sklearn.feature_extraction.text import CountVectorizer, TfidfVectorizer"
   ]
  },
  {
   "cell_type": "code",
   "execution_count": 10,
   "metadata": {},
   "outputs": [
    {
     "name": "stdout",
     "output_type": "stream",
     "text": [
      "[[0 0 1 0 0 1 0 1]\n",
      " [0 1 0 1 0 1 1 1]\n",
      " [1 0 0 0 1 1 1 0]]\n",
      "['and', 'did', 'football', 'go', 'john', 'play', 'tennis', 'to']\n"
     ]
    }
   ],
   "source": [
    "vectorizer = CountVectorizer(max_features=8)\n",
    "allSentences=[\"I like to play football\", \"Did you go outside to play tennis\", \"John and I play tennis\"]\n",
    "X = vectorizer.fit_transform(allSentences)\n",
    "\n",
    "print(X.toarray())\n",
    "print(vectorizer.get_feature_names())"
   ]
  },
  {
   "cell_type": "code",
   "execution_count": 11,
   "metadata": {},
   "outputs": [
    {
     "name": "stdout",
     "output_type": "stream",
     "text": [
      "[[ 0.          0.          0.72033345  0.          0.          0.42544054\n",
      "   0.          0.54783215]\n",
      " [ 0.          0.53409337  0.          0.53409337  0.          0.31544415\n",
      "   0.40619178  0.40619178]\n",
      " [ 0.5844829   0.          0.          0.          0.5844829   0.34520502\n",
      "   0.44451431  0.        ]]\n",
      "['and', 'did', 'football', 'go', 'john', 'play', 'tennis', 'to']\n"
     ]
    }
   ],
   "source": [
    "vectorizerTfid = TfidfVectorizer(max_features=8)\n",
    "X2 = vectorizerTfid.fit_transform(allSentences)\n",
    "\n",
    "print(X2.toarray())\n",
    "print(vectorizerTfid.get_feature_names())"
   ]
  },
  {
   "cell_type": "code",
   "execution_count": null,
   "metadata": {
    "collapsed": true
   },
   "outputs": [],
   "source": []
  }
 ],
 "metadata": {
  "kernelspec": {
   "display_name": "Python 3",
   "language": "python",
   "name": "python3"
  },
  "language_info": {
   "codemirror_mode": {
    "name": "ipython",
    "version": 3
   },
   "file_extension": ".py",
   "mimetype": "text/x-python",
   "name": "python",
   "nbconvert_exporter": "python",
   "pygments_lexer": "ipython3",
   "version": "3.6.1"
  }
 },
 "nbformat": 4,
 "nbformat_minor": 2
}
