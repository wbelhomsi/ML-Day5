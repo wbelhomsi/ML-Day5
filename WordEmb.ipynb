{
 "cells": [
  {
   "cell_type": "code",
   "execution_count": 1,
   "metadata": {},
   "outputs": [],
   "source": [
    "%config IPCompleter.greedy=True"
   ]
  },
  {
   "cell_type": "code",
   "execution_count": 2,
   "metadata": {},
   "outputs": [
    {
     "name": "stderr",
     "output_type": "stream",
     "text": [
      "C:\\Users\\user\\AppData\\Local\\conda\\conda\\envs\\Ml20\\lib\\site-packages\\h5py\\__init__.py:36: FutureWarning: Conversion of the second argument of issubdtype from `float` to `np.floating` is deprecated. In future, it will be treated as `np.float64 == np.dtype(float).type`.\n",
      "  from ._conv import register_converters as _register_converters\n",
      "Using TensorFlow backend.\n"
     ]
    }
   ],
   "source": [
    "from numpy import array\n",
    "from keras.preprocessing.text import one_hot\n",
    "from keras.preprocessing.sequence import pad_sequences\n",
    "from keras.models import Sequential\n",
    "from keras.layers import Dense\n",
    "from keras.layers import Flatten\n",
    "from keras.layers.embeddings import Embedding"
   ]
  },
  {
   "cell_type": "code",
   "execution_count": 3,
   "metadata": {},
   "outputs": [],
   "source": [
    "corpus = [\n",
    "    # Positive Reviews\n",
    "\n",
    "    'This is an excellent movie',\n",
    "    'The move was fantastic I like it',\n",
    "    'You should watch it is brilliant',\n",
    "    'Exceptionally good',\n",
    "    'Wonderfully directed and executed I like it',\n",
    "    'Its a fantastic series',\n",
    "    'Never watched such a brillent movie',\n",
    "    'It is a Wonderful movie',\n",
    "\n",
    "    # Negtive Reviews\n",
    "\n",
    "    \"horrible acting\",\n",
    "    'waste of money',\n",
    "    'pathetic picture',\n",
    "    'It was very boring',\n",
    "    'I did not like the movie',\n",
    "    'The movie was horrible',\n",
    "    'I will not recommend',\n",
    "    'The acting is pathetic'\n",
    "]\n",
    "\n",
    "sentiments = array([1,1,1,1,1,1,1,1,0,0,0,0,0,0,0,0])"
   ]
  },
  {
   "cell_type": "code",
   "execution_count": 7,
   "metadata": {},
   "outputs": [
    {
     "name": "stdout",
     "output_type": "stream",
     "text": [
      "43\n"
     ]
    }
   ],
   "source": [
    "# import nltk\n",
    "# nltk.download('punkt')\n",
    "\n",
    "from nltk.tokenize import word_tokenize\n",
    "from keras.preprocessing.text import one_hot\n",
    "\n",
    "\n",
    "all_words=set()\n",
    "for sent in corpus:\n",
    "    tokenize_word=word_tokenize(sent.lower())\n",
    "    for word in tokenize_word:\n",
    "        all_words.add(word)\n",
    "\n",
    "l=len(all_words)\n",
    "print(l)"
   ]
  },
  {
   "cell_type": "code",
   "execution_count": 8,
   "metadata": {},
   "outputs": [
    {
     "name": "stdout",
     "output_type": "stream",
     "text": [
      "[[11, 36, 9, 41, 34], [37, 17, 29, 6, 26, 1, 28], [24, 16, 30, 28, 36, 25], [41, 12], [21, 33, 41, 30, 26, 1, 28], [16, 20, 6, 8], [21, 36, 21, 20, 36, 34], [28, 36, 20, 12, 34], [3, 13], [14, 19, 11], [14, 26], [28, 29, 22, 7], [26, 17, 1, 1, 37, 34], [37, 34, 29, 3], [26, 10, 1, 29], [37, 13, 36, 14]]\n"
     ]
    }
   ],
   "source": [
    "embedded_sentences=[one_hot(sent,l) for sent in corpus]\n",
    "print(embedded_sentences)"
   ]
  },
  {
   "cell_type": "code",
   "execution_count": 10,
   "metadata": {},
   "outputs": [
    {
     "name": "stdout",
     "output_type": "stream",
     "text": [
      "7\n"
     ]
    }
   ],
   "source": [
    "mx=0\n",
    "for sent in embedded_sentences:\n",
    "  if(len(sent) > mx):\n",
    "    mx=len(sent)\n",
    "print(mx)"
   ]
  },
  {
   "cell_type": "code",
   "execution_count": 12,
   "metadata": {},
   "outputs": [
    {
     "name": "stdout",
     "output_type": "stream",
     "text": [
      "[[11 36  9 41 34  0  0]\n",
      " [37 17 29  6 26  1 28]\n",
      " [24 16 30 28 36 25  0]\n",
      " [41 12  0  0  0  0  0]\n",
      " [21 33 41 30 26  1 28]\n",
      " [16 20  6  8  0  0  0]\n",
      " [21 36 21 20 36 34  0]\n",
      " [28 36 20 12 34  0  0]\n",
      " [ 3 13  0  0  0  0  0]\n",
      " [14 19 11  0  0  0  0]\n",
      " [14 26  0  0  0  0  0]\n",
      " [28 29 22  7  0  0  0]\n",
      " [26 17  1  1 37 34  0]\n",
      " [37 34 29  3  0  0  0]\n",
      " [26 10  1 29  0  0  0]\n",
      " [37 13 36 14  0  0  0]]\n"
     ]
    }
   ],
   "source": [
    "padded_sequences=pad_sequences(embedded_sentences, mx, padding='post')\n",
    "print(padded_sequences)"
   ]
  },
  {
   "cell_type": "code",
   "execution_count": 15,
   "metadata": {},
   "outputs": [
    {
     "name": "stdout",
     "output_type": "stream",
     "text": [
      "Model: \"sequential_3\"\n",
      "_________________________________________________________________\n",
      "Layer (type)                 Output Shape              Param #   \n",
      "=================================================================\n",
      "embedding_3 (Embedding)      (None, 7, 20)             860       \n",
      "_________________________________________________________________\n",
      "flatten_2 (Flatten)          (None, 140)               0         \n",
      "_________________________________________________________________\n",
      "dense_2 (Dense)              (None, 1)                 141       \n",
      "=================================================================\n",
      "Total params: 1,001\n",
      "Trainable params: 1,001\n",
      "Non-trainable params: 0\n",
      "_________________________________________________________________\n"
     ]
    }
   ],
   "source": [
    "model = Sequential()\n",
    "model.add(Embedding(l, 20, input_length=mx))\n",
    "model.add(Flatten())\n",
    "model.add(Dense(1, activation=\"sigmoid\"))\n",
    "\n",
    "model.compile(optimizer=\"adam\", loss=\"binary_crossentropy\", metrics=[\"acc\"])\n",
    "model.summary()"
   ]
  },
  {
   "cell_type": "code",
   "execution_count": 16,
   "metadata": {},
   "outputs": [
    {
     "name": "stdout",
     "output_type": "stream",
     "text": [
      "WARNING:tensorflow:From C:\\Users\\user\\AppData\\Local\\conda\\conda\\envs\\Ml20\\lib\\site-packages\\keras\\backend\\tensorflow_backend.py:422: The name tf.global_variables is deprecated. Please use tf.compat.v1.global_variables instead.\n",
      "\n",
      "Epoch 1/100\n",
      "16/16 [==============================] - 1s 47ms/step - loss: 0.6968 - acc: 0.5625\n",
      "Epoch 2/100\n",
      "16/16 [==============================] - 0s 374us/step - loss: 0.6932 - acc: 0.5000\n",
      "Epoch 3/100\n",
      "16/16 [==============================] - 0s 249us/step - loss: 0.6896 - acc: 0.5625\n",
      "Epoch 4/100\n",
      "16/16 [==============================] - 0s 312us/step - loss: 0.6861 - acc: 0.6875\n",
      "Epoch 5/100\n",
      "16/16 [==============================] - 0s 249us/step - loss: 0.6826 - acc: 0.7500\n",
      "Epoch 6/100\n",
      "16/16 [==============================] - 0s 249us/step - loss: 0.6790 - acc: 0.7500\n",
      "Epoch 7/100\n",
      "16/16 [==============================] - 0s 374us/step - loss: 0.6755 - acc: 0.8125\n",
      "Epoch 8/100\n",
      "16/16 [==============================] - 0s 312us/step - loss: 0.6720 - acc: 0.9375\n",
      "Epoch 9/100\n",
      "16/16 [==============================] - 0s 312us/step - loss: 0.6685 - acc: 0.9375\n",
      "Epoch 10/100\n",
      "16/16 [==============================] - 0s 312us/step - loss: 0.6650 - acc: 0.9375\n",
      "Epoch 11/100\n",
      "16/16 [==============================] - 0s 312us/step - loss: 0.6615 - acc: 0.9375\n",
      "Epoch 12/100\n",
      "16/16 [==============================] - 0s 312us/step - loss: 0.6580 - acc: 0.9375\n",
      "Epoch 13/100\n",
      "16/16 [==============================] - 0s 374us/step - loss: 0.6545 - acc: 0.9375\n",
      "Epoch 14/100\n",
      "16/16 [==============================] - 0s 374us/step - loss: 0.6509 - acc: 0.9375\n",
      "Epoch 15/100\n",
      "16/16 [==============================] - 0s 374us/step - loss: 0.6474 - acc: 0.9375\n",
      "Epoch 16/100\n",
      "16/16 [==============================] - 0s 312us/step - loss: 0.6438 - acc: 0.9375\n",
      "Epoch 17/100\n",
      "16/16 [==============================] - 0s 312us/step - loss: 0.6402 - acc: 0.9375\n",
      "Epoch 18/100\n",
      "16/16 [==============================] - 0s 312us/step - loss: 0.6366 - acc: 0.9375\n",
      "Epoch 19/100\n",
      "16/16 [==============================] - 0s 374us/step - loss: 0.6330 - acc: 0.9375\n",
      "Epoch 20/100\n",
      "16/16 [==============================] - 0s 249us/step - loss: 0.6293 - acc: 0.9375\n",
      "Epoch 21/100\n",
      "16/16 [==============================] - 0s 312us/step - loss: 0.6256 - acc: 0.9375\n",
      "Epoch 22/100\n",
      "16/16 [==============================] - 0s 312us/step - loss: 0.6218 - acc: 0.9375\n",
      "Epoch 23/100\n",
      "16/16 [==============================] - 0s 312us/step - loss: 0.6181 - acc: 0.9375\n",
      "Epoch 24/100\n",
      "16/16 [==============================] - 0s 312us/step - loss: 0.6143 - acc: 0.9375\n",
      "Epoch 25/100\n",
      "16/16 [==============================] - 0s 312us/step - loss: 0.6104 - acc: 0.9375\n",
      "Epoch 26/100\n",
      "16/16 [==============================] - 0s 312us/step - loss: 0.6066 - acc: 0.9375\n",
      "Epoch 27/100\n",
      "16/16 [==============================] - 0s 312us/step - loss: 0.6026 - acc: 0.9375\n",
      "Epoch 28/100\n",
      "16/16 [==============================] - 0s 249us/step - loss: 0.5987 - acc: 0.9375\n",
      "Epoch 29/100\n",
      "16/16 [==============================] - 0s 312us/step - loss: 0.5947 - acc: 0.9375\n",
      "Epoch 30/100\n",
      "16/16 [==============================] - 0s 312us/step - loss: 0.5907 - acc: 0.9375\n",
      "Epoch 31/100\n",
      "16/16 [==============================] - 0s 312us/step - loss: 0.5866 - acc: 0.9375\n",
      "Epoch 32/100\n",
      "16/16 [==============================] - 0s 312us/step - loss: 0.5825 - acc: 0.9375\n",
      "Epoch 33/100\n",
      "16/16 [==============================] - 0s 312us/step - loss: 0.5783 - acc: 0.9375\n",
      "Epoch 34/100\n",
      "16/16 [==============================] - 0s 374us/step - loss: 0.5742 - acc: 0.9375\n",
      "Epoch 35/100\n",
      "16/16 [==============================] - 0s 312us/step - loss: 0.5699 - acc: 0.9375\n",
      "Epoch 36/100\n",
      "16/16 [==============================] - 0s 312us/step - loss: 0.5657 - acc: 0.9375\n",
      "Epoch 37/100\n",
      "16/16 [==============================] - 0s 312us/step - loss: 0.5614 - acc: 0.9375\n",
      "Epoch 38/100\n",
      "16/16 [==============================] - 0s 312us/step - loss: 0.5570 - acc: 0.9375\n",
      "Epoch 39/100\n",
      "16/16 [==============================] - 0s 312us/step - loss: 0.5527 - acc: 0.9375\n",
      "Epoch 40/100\n",
      "16/16 [==============================] - 0s 249us/step - loss: 0.5482 - acc: 0.9375\n",
      "Epoch 41/100\n",
      "16/16 [==============================] - 0s 312us/step - loss: 0.5438 - acc: 0.9375\n",
      "Epoch 42/100\n",
      "16/16 [==============================] - 0s 312us/step - loss: 0.5393 - acc: 0.9375\n",
      "Epoch 43/100\n",
      "16/16 [==============================] - 0s 312us/step - loss: 0.5348 - acc: 0.9375\n",
      "Epoch 44/100\n",
      "16/16 [==============================] - 0s 249us/step - loss: 0.5303 - acc: 0.9375\n",
      "Epoch 45/100\n",
      "16/16 [==============================] - 0s 312us/step - loss: 0.5257 - acc: 0.9375\n",
      "Epoch 46/100\n",
      "16/16 [==============================] - 0s 249us/step - loss: 0.5211 - acc: 0.9375\n",
      "Epoch 47/100\n",
      "16/16 [==============================] - 0s 249us/step - loss: 0.5165 - acc: 0.9375\n",
      "Epoch 48/100\n",
      "16/16 [==============================] - 0s 249us/step - loss: 0.5118 - acc: 0.9375\n",
      "Epoch 49/100\n",
      "16/16 [==============================] - 0s 249us/step - loss: 0.5071 - acc: 0.9375\n",
      "Epoch 50/100\n",
      "16/16 [==============================] - 0s 249us/step - loss: 0.5024 - acc: 0.9375\n",
      "Epoch 51/100\n",
      "16/16 [==============================] - 0s 249us/step - loss: 0.4977 - acc: 0.9375\n",
      "Epoch 52/100\n",
      "16/16 [==============================] - 0s 187us/step - loss: 0.4930 - acc: 0.9375\n",
      "Epoch 53/100\n",
      "16/16 [==============================] - 0s 312us/step - loss: 0.4882 - acc: 0.9375\n",
      "Epoch 54/100\n",
      "16/16 [==============================] - 0s 312us/step - loss: 0.4834 - acc: 0.9375\n",
      "Epoch 55/100\n",
      "16/16 [==============================] - 0s 249us/step - loss: 0.4787 - acc: 0.9375\n",
      "Epoch 56/100\n",
      "16/16 [==============================] - 0s 249us/step - loss: 0.4739 - acc: 0.9375\n",
      "Epoch 57/100\n",
      "16/16 [==============================] - 0s 312us/step - loss: 0.4690 - acc: 0.9375\n",
      "Epoch 58/100\n",
      "16/16 [==============================] - 0s 312us/step - loss: 0.4642 - acc: 0.9375\n",
      "Epoch 59/100\n",
      "16/16 [==============================] - 0s 312us/step - loss: 0.4594 - acc: 0.9375\n",
      "Epoch 60/100\n",
      "16/16 [==============================] - 0s 249us/step - loss: 0.4546 - acc: 0.9375\n",
      "Epoch 61/100\n",
      "16/16 [==============================] - 0s 312us/step - loss: 0.4497 - acc: 0.9375\n",
      "Epoch 62/100\n",
      "16/16 [==============================] - 0s 374us/step - loss: 0.4449 - acc: 0.9375\n",
      "Epoch 63/100\n",
      "16/16 [==============================] - 0s 312us/step - loss: 0.4401 - acc: 0.9375\n",
      "Epoch 64/100\n",
      "16/16 [==============================] - 0s 311us/step - loss: 0.4353 - acc: 0.9375\n",
      "Epoch 65/100\n",
      "16/16 [==============================] - 0s 311us/step - loss: 0.4304 - acc: 0.9375\n",
      "Epoch 66/100\n",
      "16/16 [==============================] - 0s 312us/step - loss: 0.4256 - acc: 0.9375\n",
      "Epoch 67/100\n",
      "16/16 [==============================] - 0s 249us/step - loss: 0.4208 - acc: 0.9375\n",
      "Epoch 68/100\n",
      "16/16 [==============================] - 0s 312us/step - loss: 0.4160 - acc: 0.9375\n",
      "Epoch 69/100\n",
      "16/16 [==============================] - 0s 249us/step - loss: 0.4112 - acc: 0.9375\n",
      "Epoch 70/100\n",
      "16/16 [==============================] - 0s 312us/step - loss: 0.4065 - acc: 0.9375\n",
      "Epoch 71/100\n",
      "16/16 [==============================] - 0s 374us/step - loss: 0.4017 - acc: 0.9375\n",
      "Epoch 72/100\n",
      "16/16 [==============================] - 0s 312us/step - loss: 0.3970 - acc: 0.9375\n",
      "Epoch 73/100\n",
      "16/16 [==============================] - 0s 312us/step - loss: 0.3923 - acc: 0.9375\n",
      "Epoch 74/100\n",
      "16/16 [==============================] - 0s 312us/step - loss: 0.3876 - acc: 0.9375\n",
      "Epoch 75/100\n",
      "16/16 [==============================] - 0s 374us/step - loss: 0.3829 - acc: 0.9375\n",
      "Epoch 76/100\n",
      "16/16 [==============================] - 0s 312us/step - loss: 0.3782 - acc: 0.9375\n",
      "Epoch 77/100\n",
      "16/16 [==============================] - 0s 312us/step - loss: 0.3736 - acc: 0.9375\n",
      "Epoch 78/100\n",
      "16/16 [==============================] - 0s 374us/step - loss: 0.3690 - acc: 0.9375\n",
      "Epoch 79/100\n",
      "16/16 [==============================] - 0s 312us/step - loss: 0.3644 - acc: 0.9375\n",
      "Epoch 80/100\n",
      "16/16 [==============================] - 0s 312us/step - loss: 0.3598 - acc: 0.9375\n",
      "Epoch 81/100\n",
      "16/16 [==============================] - 0s 374us/step - loss: 0.3553 - acc: 0.9375\n",
      "Epoch 82/100\n",
      "16/16 [==============================] - 0s 374us/step - loss: 0.3508 - acc: 0.9375\n",
      "Epoch 83/100\n",
      "16/16 [==============================] - 0s 374us/step - loss: 0.3463 - acc: 0.9375\n"
     ]
    },
    {
     "name": "stdout",
     "output_type": "stream",
     "text": [
      "Epoch 84/100\n",
      "16/16 [==============================] - 0s 311us/step - loss: 0.3419 - acc: 0.9375\n",
      "Epoch 85/100\n",
      "16/16 [==============================] - 0s 312us/step - loss: 0.3375 - acc: 0.9375\n",
      "Epoch 86/100\n",
      "16/16 [==============================] - 0s 374us/step - loss: 0.3331 - acc: 0.9375\n",
      "Epoch 87/100\n",
      "16/16 [==============================] - 0s 374us/step - loss: 0.3288 - acc: 0.9375\n",
      "Epoch 88/100\n",
      "16/16 [==============================] - 0s 374us/step - loss: 0.3245 - acc: 0.9375\n",
      "Epoch 89/100\n",
      "16/16 [==============================] - 0s 312us/step - loss: 0.3202 - acc: 0.9375\n",
      "Epoch 90/100\n",
      "16/16 [==============================] - 0s 374us/step - loss: 0.3160 - acc: 0.9375\n",
      "Epoch 91/100\n",
      "16/16 [==============================] - 0s 374us/step - loss: 0.3118 - acc: 1.0000\n",
      "Epoch 92/100\n",
      "16/16 [==============================] - 0s 312us/step - loss: 0.3076 - acc: 1.0000\n",
      "Epoch 93/100\n",
      "16/16 [==============================] - 0s 312us/step - loss: 0.3035 - acc: 1.0000\n",
      "Epoch 94/100\n",
      "16/16 [==============================] - 0s 312us/step - loss: 0.2994 - acc: 1.0000\n",
      "Epoch 95/100\n",
      "16/16 [==============================] - 0s 374us/step - loss: 0.2954 - acc: 1.0000\n",
      "Epoch 96/100\n",
      "16/16 [==============================] - 0s 311us/step - loss: 0.2914 - acc: 1.0000\n",
      "Epoch 97/100\n",
      "16/16 [==============================] - 0s 374us/step - loss: 0.2874 - acc: 1.0000\n",
      "Epoch 98/100\n",
      "16/16 [==============================] - 0s 312us/step - loss: 0.2835 - acc: 1.0000\n",
      "Epoch 99/100\n",
      "16/16 [==============================] - 0s 312us/step - loss: 0.2796 - acc: 1.0000\n",
      "Epoch 100/100\n",
      "16/16 [==============================] - 0s 312us/step - loss: 0.2758 - acc: 1.0000\n"
     ]
    },
    {
     "data": {
      "text/plain": [
       "<keras.callbacks.callbacks.History at 0x2612f5061d0>"
      ]
     },
     "execution_count": 16,
     "metadata": {},
     "output_type": "execute_result"
    }
   ],
   "source": [
    "model.fit(padded_sequences, sentiments, epochs=100, verbose=1)"
   ]
  },
  {
   "cell_type": "code",
   "execution_count": null,
   "metadata": {},
   "outputs": [],
   "source": []
  }
 ],
 "metadata": {
  "kernelspec": {
   "display_name": "Python 3",
   "language": "python",
   "name": "python3"
  },
  "language_info": {
   "codemirror_mode": {
    "name": "ipython",
    "version": 3
   },
   "file_extension": ".py",
   "mimetype": "text/x-python",
   "name": "python",
   "nbconvert_exporter": "python",
   "pygments_lexer": "ipython3",
   "version": "3.6.3"
  }
 },
 "nbformat": 4,
 "nbformat_minor": 2
}
